{
 "cells": [
  {
   "cell_type": "code",
   "execution_count": 2,
   "id": "1b5880c1",
   "metadata": {},
   "outputs": [],
   "source": [
    "import pandas as pd\n",
    "import numpy as np\n",
    "from keras.models import Sequential\n",
    "from keras.layers import Embedding, Conv1D, MaxPooling1D, Flatten, Dense,LSTM\n",
    "from keras.preprocessing.text import Tokenizer\n",
    "from tensorflow.keras.preprocessing.sequence import pad_sequences\n",
    "from sklearn.model_selection import train_test_split\n",
    "from textblob import TextBlob\n",
    "from sklearn.metrics import classification_report\n"
   ]
  },
  {
   "cell_type": "code",
   "execution_count": 3,
   "id": "677d4336",
   "metadata": {},
   "outputs": [
    {
     "name": "stdout",
     "output_type": "stream",
     "text": [
      "Requirement already satisfied: textblob in c:\\users\\krish\\anaconda3\\lib\\site-packages (0.17.1)\n",
      "Requirement already satisfied: nltk>=3.1 in c:\\users\\krish\\anaconda3\\lib\\site-packages (from textblob) (3.7)\n",
      "Requirement already satisfied: tqdm in c:\\users\\krish\\anaconda3\\lib\\site-packages (from nltk>=3.1->textblob) (4.64.1)\n",
      "Requirement already satisfied: regex>=2021.8.3 in c:\\users\\krish\\anaconda3\\lib\\site-packages (from nltk>=3.1->textblob) (2022.7.9)\n",
      "Requirement already satisfied: joblib in c:\\users\\krish\\anaconda3\\lib\\site-packages (from nltk>=3.1->textblob) (1.1.1)\n",
      "Requirement already satisfied: click in c:\\users\\krish\\anaconda3\\lib\\site-packages (from nltk>=3.1->textblob) (8.0.4)\n",
      "Requirement already satisfied: colorama in c:\\users\\krish\\anaconda3\\lib\\site-packages (from click->nltk>=3.1->textblob) (0.4.6)\n"
     ]
    }
   ],
   "source": [
    "!pip install textblob"
   ]
  },
  {
   "cell_type": "code",
   "execution_count": 4,
   "id": "5c189ce4",
   "metadata": {},
   "outputs": [],
   "source": [
    "df=pd.read_csv(\"C:\\\\Users\\\\krish\\Videos\\\\MK_Stalin.csv\")"
   ]
  },
  {
   "cell_type": "code",
   "execution_count": 5,
   "id": "5abd0f07",
   "metadata": {},
   "outputs": [
    {
     "name": "stdout",
     "output_type": "stream",
     "text": [
      "<class 'pandas.core.frame.DataFrame'>\n",
      "RangeIndex: 75000 entries, 0 to 74999\n",
      "Data columns (total 1 columns):\n",
      " #   Column  Non-Null Count  Dtype \n",
      "---  ------  --------------  ----- \n",
      " 0   Tweet   75000 non-null  object\n",
      "dtypes: object(1)\n",
      "memory usage: 586.1+ KB\n"
     ]
    }
   ],
   "source": [
    "df.info()"
   ]
  },
  {
   "cell_type": "code",
   "execution_count": 7,
   "id": "3df993fa",
   "metadata": {},
   "outputs": [],
   "source": [
    "Tweet=df['Tweet']"
   ]
  },
  {
   "cell_type": "code",
   "execution_count": 8,
   "id": "74c839a3",
   "metadata": {},
   "outputs": [],
   "source": [
    "labeled_tweets=[]\n",
    "labels=[]\n",
    "for tweet in Tweet:\n",
    "    blob = TextBlob(tweet)\n",
    "    sentiment = blob.sentiment.polarity  # Sentiment polarity ranges from -1 to 1\n",
    "    labeled_tweets.append(tweet)\n",
    "    labels.append(1 if sentiment >= 0 else 0)  # Assign label 1 for positive sentiment, 0 for negative sentiment"
   ]
  },
  {
   "cell_type": "code",
   "execution_count": 9,
   "id": "f7a33e5c",
   "metadata": {},
   "outputs": [],
   "source": [
    "# Step 3: Feature Extraction\n",
    "tokenizer = Tokenizer()\n",
    "tokenizer.fit_on_texts(labeled_tweets)\n",
    "sequences = tokenizer.texts_to_sequences(labeled_tweets)\n",
    "word_index = tokenizer.word_index\n",
    "max_length = max(len(seq) for seq in sequences)\n",
    "data = pad_sequences(sequences, maxlen=max_length)"
   ]
  },
  {
   "cell_type": "code",
   "execution_count": 10,
   "id": "1a0c3f52",
   "metadata": {},
   "outputs": [],
   "source": [
    "# Step 4: Split the Data\n",
    "x_train, x_test, y_train, y_test = train_test_split(data, labels, test_size=0.2, random_state=42)"
   ]
  },
  {
   "cell_type": "code",
   "execution_count": 11,
   "id": "60abd529",
   "metadata": {},
   "outputs": [
    {
     "name": "stdout",
     "output_type": "stream",
     "text": [
      "Epoch 1/10\n",
      "469/469 [==============================] - 92s 194ms/step - loss: 0.1624 - accuracy: 0.9393 - val_loss: 0.0090 - val_accuracy: 0.9979\n",
      "Epoch 2/10\n",
      "469/469 [==============================] - 97s 206ms/step - loss: 0.0025 - accuracy: 0.9996 - val_loss: 5.3902e-04 - val_accuracy: 1.0000\n",
      "Epoch 3/10\n",
      "469/469 [==============================] - 94s 201ms/step - loss: 2.9533e-04 - accuracy: 1.0000 - val_loss: 1.8236e-04 - val_accuracy: 1.0000\n",
      "Epoch 4/10\n",
      "469/469 [==============================] - 95s 203ms/step - loss: 1.1911e-04 - accuracy: 1.0000 - val_loss: 9.0740e-05 - val_accuracy: 1.0000\n",
      "Epoch 5/10\n",
      "469/469 [==============================] - 98s 208ms/step - loss: 6.2825e-05 - accuracy: 1.0000 - val_loss: 5.2613e-05 - val_accuracy: 1.0000\n",
      "Epoch 6/10\n",
      "469/469 [==============================] - 92s 197ms/step - loss: 3.7626e-05 - accuracy: 1.0000 - val_loss: 3.3107e-05 - val_accuracy: 1.0000\n",
      "Epoch 7/10\n",
      "469/469 [==============================] - 96s 204ms/step - loss: 2.4115e-05 - accuracy: 1.0000 - val_loss: 2.2127e-05 - val_accuracy: 1.0000\n",
      "Epoch 8/10\n",
      "469/469 [==============================] - 99s 210ms/step - loss: 1.6266e-05 - accuracy: 1.0000 - val_loss: 1.5188e-05 - val_accuracy: 1.0000\n",
      "Epoch 9/10\n",
      "469/469 [==============================] - 95s 203ms/step - loss: 1.1279e-05 - accuracy: 1.0000 - val_loss: 1.0899e-05 - val_accuracy: 1.0000\n",
      "Epoch 10/10\n",
      "469/469 [==============================] - 96s 204ms/step - loss: 7.9905e-06 - accuracy: 1.0000 - val_loss: 7.6898e-06 - val_accuracy: 1.0000\n"
     ]
    },
    {
     "data": {
      "text/plain": [
       "<keras.callbacks.History at 0x223177f54b0>"
      ]
     },
     "execution_count": 11,
     "metadata": {},
     "output_type": "execute_result"
    }
   ],
   "source": [
    "# Convert to NumPy arrays\n",
    "x_train = np.array(x_train)\n",
    "x_test = np.array(x_test)\n",
    "y_train = np.array(y_train)\n",
    "y_test = np.array(y_test)\n",
    "\n",
    "# Step 5: Model Training\n",
    "embedding_dim = 100  # Define the dimensionality of word embeddings\n",
    "\n",
    "model = Sequential()\n",
    "model.add(Embedding(len(word_index) + 1, embedding_dim, input_length=max_length))\n",
    "model.add(Conv1D(128, 5, activation='relu'))\n",
    "model.add(MaxPooling1D(pool_size=4))\n",
    "model.add(Flatten())\n",
    "model.add(Dense(1, activation='sigmoid'))\n",
    "model.compile(loss='binary_crossentropy', optimizer='adam', metrics=['accuracy'])\n",
    "model.fit(x_train, y_train, validation_data=(x_test, y_test), epochs=10, batch_size=128)"
   ]
  },
  {
   "cell_type": "code",
   "execution_count": 1,
   "id": "8a419826",
   "metadata": {},
   "outputs": [
    {
     "ename": "NameError",
     "evalue": "name 'model' is not defined",
     "output_type": "error",
     "traceback": [
      "\u001b[1;31m---------------------------------------------------------------------------\u001b[0m",
      "\u001b[1;31mNameError\u001b[0m                                 Traceback (most recent call last)",
      "Cell \u001b[1;32mIn[1], line 2\u001b[0m\n\u001b[0;32m      1\u001b[0m \u001b[38;5;66;03m# Step 6: Model Evaluation\u001b[39;00m\n\u001b[1;32m----> 2\u001b[0m loss, accuracy \u001b[38;5;241m=\u001b[39m \u001b[43mmodel\u001b[49m\u001b[38;5;241m.\u001b[39mevaluate(x_test, y_test)\n\u001b[0;32m      3\u001b[0m \u001b[38;5;28mprint\u001b[39m(\u001b[38;5;124mf\u001b[39m\u001b[38;5;124m\"\u001b[39m\u001b[38;5;124mTest Loss: \u001b[39m\u001b[38;5;132;01m{\u001b[39;00mloss\u001b[38;5;132;01m}\u001b[39;00m\u001b[38;5;124m, Test Accuracy: \u001b[39m\u001b[38;5;132;01m{\u001b[39;00maccuracy\u001b[38;5;132;01m}\u001b[39;00m\u001b[38;5;124m\"\u001b[39m)\n",
      "\u001b[1;31mNameError\u001b[0m: name 'model' is not defined"
     ]
    }
   ],
   "source": [
    "# Step 6: Model Evaluation\n",
    "loss, accuracy = model.evaluate(x_test, y_test)\n",
    "print(f\"Test Loss: {loss}, Test Accuracy: {accuracy}\")"
   ]
  },
  {
   "cell_type": "code",
   "execution_count": 16,
   "id": "4574bfa9",
   "metadata": {},
   "outputs": [
    {
     "name": "stdout",
     "output_type": "stream",
     "text": [
      "469/469 [==============================] - 7s 15ms/step\n",
      "              precision    recall  f1-score   support\n",
      "\n",
      "           0       1.00      1.00      1.00      2465\n",
      "           1       1.00      1.00      1.00     12535\n",
      "\n",
      "    accuracy                           1.00     15000\n",
      "   macro avg       1.00      1.00      1.00     15000\n",
      "weighted avg       1.00      1.00      1.00     15000\n",
      "\n"
     ]
    }
   ],
   "source": [
    "y_pred_prob = model.predict(x_test)  # Predicted probabilities\n",
    "y_pred = (y_pred_prob > 0.5).astype(int)  # Convert probabilities to class labels (0 or 1)\n",
    "report = classification_report(y_test, y_pred)\n",
    "\n",
    "# Print the classification report\n",
    "print(report)"
   ]
  },
  {
   "cell_type": "code",
   "execution_count": 13,
   "id": "c2b51b76",
   "metadata": {},
   "outputs": [
    {
     "ename": "NameError",
     "evalue": "name 'new_tweets' is not defined",
     "output_type": "error",
     "traceback": [
      "\u001b[1;31m---------------------------------------------------------------------------\u001b[0m",
      "\u001b[1;31mNameError\u001b[0m                                 Traceback (most recent call last)",
      "Cell \u001b[1;32mIn[13], line 3\u001b[0m\n\u001b[0;32m      1\u001b[0m \u001b[38;5;66;03m# Step 7: Sentiment Prediction\u001b[39;00m\n\u001b[0;32m      2\u001b[0m \u001b[38;5;66;03m# Assume you have new, unlabeled tweets stored in `new_tweets`.\u001b[39;00m\n\u001b[1;32m----> 3\u001b[0m new_sequences \u001b[38;5;241m=\u001b[39m tokenizer\u001b[38;5;241m.\u001b[39mtexts_to_sequences(\u001b[43mnew_tweets\u001b[49m)\n\u001b[0;32m      4\u001b[0m new_data \u001b[38;5;241m=\u001b[39m pad_sequences(new_sequences, maxlen\u001b[38;5;241m=\u001b[39mmax_length)\n\u001b[0;32m      5\u001b[0m new_data \u001b[38;5;241m=\u001b[39m np\u001b[38;5;241m.\u001b[39marray(new_data)\n",
      "\u001b[1;31mNameError\u001b[0m: name 'new_tweets' is not defined"
     ]
    }
   ],
   "source": [
    "# Step 7: Sentiment Prediction\n",
    "# Assume you have new, unlabeled tweets stored in `new_tweets`.\n",
    "new_sequences = tokenizer.texts_to_sequences(new_tweets)\n",
    "new_data = pad_sequences(new_sequences, maxlen=max_length)\n",
    "new_data = np.array(new_data)\n",
    "sentiment_predictions = model.predict(new_data)"
   ]
  },
  {
   "cell_type": "code",
   "execution_count": null,
   "id": "4212b210",
   "metadata": {},
   "outputs": [],
   "source": [
    "# Step 8: Aggregating Predictions\n",
    "positive_count = np.sum(sentiment_predictions > 0.5)\n",
    "negative_count = len(sentiment_predictions) - positive_count\n",
    "print(f\"Positive Count: {positive_count}, Negative Count: {negative_count}\")"
   ]
  },
  {
   "cell_type": "code",
   "execution_count": 18,
   "id": "2c41229d",
   "metadata": {},
   "outputs": [],
   "source": [
    "# Step 4: Split the Data\n",
    "x_train1, x_test1, y_train1, y_test1 = train_test_split(data, labels, test_size=0.2, random_state=42)\n",
    "# Convert to NumPy arrays\n",
    "x_train1 = np.array(x_train1)\n",
    "x_test1 = np.array(x_test1)\n",
    "y_train1 = np.array(y_train1)\n",
    "y_test1 = np.array(y_test1)\n"
   ]
  },
  {
   "cell_type": "code",
   "execution_count": null,
   "id": "529c8887",
   "metadata": {},
   "outputs": [
    {
     "name": "stdout",
     "output_type": "stream",
     "text": [
      "Epoch 1/10\n",
      "469/469 [==============================] - 306s 645ms/step - loss: 0.1438 - accuracy: 0.9465 - val_loss: 0.0122 - val_accuracy: 0.9978\n",
      "Epoch 2/10\n",
      "469/469 [==============================] - 309s 659ms/step - loss: 0.0030 - accuracy: 0.9991 - val_loss: 4.9968e-04 - val_accuracy: 0.9999\n",
      "Epoch 3/10\n",
      "469/469 [==============================] - 315s 671ms/step - loss: 0.0100 - accuracy: 0.9968 - val_loss: 0.0023 - val_accuracy: 0.9995\n",
      "Epoch 4/10\n",
      "469/469 [==============================] - 319s 680ms/step - loss: 7.8472e-04 - accuracy: 0.9998 - val_loss: 9.6584e-05 - val_accuracy: 1.0000\n",
      "Epoch 5/10\n",
      "469/469 [==============================] - 311s 663ms/step - loss: 4.8769e-05 - accuracy: 1.0000 - val_loss: 3.3054e-05 - val_accuracy: 1.0000\n",
      "Epoch 6/10\n",
      "469/469 [==============================] - 311s 664ms/step - loss: 2.2125e-05 - accuracy: 1.0000 - val_loss: 1.8564e-05 - val_accuracy: 1.0000\n",
      "Epoch 7/10\n",
      "342/469 [====================>.........] - ETA: 1:20 - loss: 1.3476e-05 - accuracy: 1.0000"
     ]
    }
   ],
   "source": [
    "# Step 5: Model Training\n",
    "embedding_dim = 100  # Define the dimensionality of word embeddings\n",
    "\n",
    "model2 = Sequential()\n",
    "model2.add(Embedding(len(word_index) + 1, embedding_dim, input_length=max_length))\n",
    "model2.add(LSTM(128))\n",
    "model2.add(Dense(1, activation='sigmoid'))\n",
    "\n",
    "model2.compile(loss='binary_crossentropy', optimizer='adam', metrics=['accuracy'])\n",
    "model2.fit(x_train1, y_train1, validation_data=(x_test1, y_test1), epochs=10, batch_size=128)\n"
   ]
  },
  {
   "cell_type": "code",
   "execution_count": 24,
   "id": "74d7c1f5",
   "metadata": {},
   "outputs": [
    {
     "ename": "NameError",
     "evalue": "name 'model2' is not defined",
     "output_type": "error",
     "traceback": [
      "\u001b[1;31m---------------------------------------------------------------------------\u001b[0m",
      "\u001b[1;31mNameError\u001b[0m                                 Traceback (most recent call last)",
      "Cell \u001b[1;32mIn[24], line 2\u001b[0m\n\u001b[0;32m      1\u001b[0m \u001b[38;5;66;03m# Step 6: Model Evaluation\u001b[39;00m\n\u001b[1;32m----> 2\u001b[0m loss2, accuracy2 \u001b[38;5;241m=\u001b[39m \u001b[43mmodel2\u001b[49m\u001b[38;5;241m.\u001b[39mevaluate(x_test1, y_test1)\n\u001b[0;32m      3\u001b[0m \u001b[38;5;28mprint\u001b[39m(\u001b[38;5;124mf\u001b[39m\u001b[38;5;124m\"\u001b[39m\u001b[38;5;124mTest Loss: \u001b[39m\u001b[38;5;132;01m{\u001b[39;00mloss2\u001b[38;5;132;01m}\u001b[39;00m\u001b[38;5;124m, Test Accuracy: \u001b[39m\u001b[38;5;132;01m{\u001b[39;00maccuracy2\u001b[38;5;132;01m}\u001b[39;00m\u001b[38;5;124m\"\u001b[39m)\n",
      "\u001b[1;31mNameError\u001b[0m: name 'model2' is not defined"
     ]
    }
   ],
   "source": [
    "# Step 6: Model Evaluation\n",
    "loss2, accuracy2 = model2.evaluate(x_test1, y_test1)\n",
    "print(f\"Test Loss: {loss2}, Test Accuracy: {accuracy2}\")\n"
   ]
  },
  {
   "cell_type": "code",
   "execution_count": 17,
   "id": "ab50c581",
   "metadata": {},
   "outputs": [
    {
     "name": "stdout",
     "output_type": "stream",
     "text": [
      "63/63 [==============================] - 7s 78ms/step\n",
      "              precision    recall  f1-score   support\n",
      "\n",
      "           0       0.58      0.55      0.56       317\n",
      "           1       0.92      0.93      0.92      1683\n",
      "\n",
      "    accuracy                           0.86      2000\n",
      "   macro avg       0.75      0.74      0.74      2000\n",
      "weighted avg       0.86      0.86      0.86      2000\n",
      "\n"
     ]
    }
   ],
   "source": [
    "y_pred_prob1 = model2.predict(x_test1)  # Predicted probabilities\n",
    "y_pred1 = (y_pred_prob1 > 0.5).astype(int)  # Convert probabilities to class labels (0 or 1)\n",
    "report1 = classification_report(y_test1, y_pred1)\n",
    "\n",
    "# Print the classification report\n",
    "print(report1)"
   ]
  },
  {
   "cell_type": "code",
   "execution_count": null,
   "id": "9156707f",
   "metadata": {},
   "outputs": [],
   "source": [
    "# Step 7: Sentiment Prediction\n",
    "# Assume you have new, unlabeled tweets stored in `new_tweets`.\n",
    "new_sequences = tokenizer.texts_to_sequences(new_tweets)\n",
    "new_data = pad_sequences(new_sequences, maxlen=max_length)\n",
    "sentiment_predictions = model.predict(new_data)"
   ]
  },
  {
   "cell_type": "code",
   "execution_count": null,
   "id": "1f709f04",
   "metadata": {},
   "outputs": [],
   "source": [
    "# Step 8: Aggregating Predictions\n",
    "positive_count = np.sum(sentiment_predictions > 0.5)\n",
    "negative_count = len(sentiment_predictions) - positive_count\n",
    "print(f\"Positive Count: {positive_count}, Negative Count: {negative_count}\")"
   ]
  }
 ],
 "metadata": {
  "kernelspec": {
   "display_name": "Python 3 (ipykernel)",
   "language": "python",
   "name": "python3"
  },
  "language_info": {
   "codemirror_mode": {
    "name": "ipython",
    "version": 3
   },
   "file_extension": ".py",
   "mimetype": "text/x-python",
   "name": "python",
   "nbconvert_exporter": "python",
   "pygments_lexer": "ipython3",
   "version": "3.10.9"
  }
 },
 "nbformat": 4,
 "nbformat_minor": 5
}
